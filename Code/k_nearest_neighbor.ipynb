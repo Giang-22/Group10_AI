{
  "nbformat": 4,
  "nbformat_minor": 0,
  "metadata": {
    "colab": {
      "provenance": []
    },
    "kernelspec": {
      "name": "python3",
      "display_name": "Python 3"
    },
    "language_info": {
      "name": "python"
    }
  },
  "cells": [
    {
      "cell_type": "code",
      "execution_count": null,
      "metadata": {
        "id": "KJFOMhHpknP5"
      },
      "outputs": [],
      "source": [
        "from collections import Counter\n",
        "import numpy as np\n",
        "import pandas as pd\n",
        "from sklearn import preprocessing\n",
        "from sklearn.model_selection import train_test_split\n",
        "from sklearn.metrics import confusion_matrix, accuracy_score"
      ]
    },
    {
      "cell_type": "code",
      "source": [
        "#Hàm tính khoảng cách Euclidean giữa hai điểm.\n",
        "def khoang_cach_euclidean(x1, x2):\n",
        "    return np.sqrt(np.sum((x1 - x2) ** 2))"
      ],
      "metadata": {
        "id": "v4D56_GHktLa"
      },
      "execution_count": null,
      "outputs": []
    },
    {
      "cell_type": "code",
      "source": [
        "def duDoan(X_train, y_train, X_test, k):\n",
        "    list_du_doan = []\n",
        "\n",
        "    for x_test in X_test:\n",
        "        list_khoang_cach = []\n",
        "\n",
        "        for i, x_train in enumerate(X_train):\n",
        "          #Tính khoảng cách từ điểm test đến điểm train\n",
        "            khoang_cach = khoang_cach_euclidean(x_test, x_train)\n",
        "            list_khoang_cach.append((khoang_cach, y_train[i]))\n",
        "\n",
        "        #Sắp xếp các khoảng cách theo thứ tự tăng dần\n",
        "        list_khoang_cach.sort(key=lambda x: x[0])\n",
        "\n",
        "        #Lấy k láng giềng\n",
        "        k_lang_gieng = list_khoang_cach[:k]\n",
        "\n",
        "        list_nhan = []\n",
        "        #Lấy nhãn từ k láng giềng\n",
        "        for lg in k_lang_gieng:\n",
        "          nhan = lg[1]\n",
        "          list_nhan.append(nhan)\n",
        "\n",
        "        #Đếm số lần xuất hiện của nhãn\n",
        "        dem_nhan = Counter(list_nhan)\n",
        "        #Lấy ra cặp dữ liệu xuất hiện nhiều nhất\n",
        "        cap_pb = dem_nhan.most_common(1)[0]\n",
        "        #Từ cặp dữ liệu trên, lấy ra nhãn phổ biến nhất\n",
        "        nhan_pb = cap_pb[0]\n",
        "\n",
        "        list_du_doan.append(nhan_pb)\n",
        "\n",
        "    return np.array(list_du_doan)"
      ],
      "metadata": {
        "id": "nZcS77PwkwFf"
      },
      "execution_count": null,
      "outputs": []
    },
    {
      "cell_type": "code",
      "source": [
        "from google.colab import files\n",
        "uploaded = files.upload()"
      ],
      "metadata": {
        "id": "943KCq4_N3Ig"
      },
      "execution_count": null,
      "outputs": []
    },
    {
      "cell_type": "code",
      "source": [
        "data = pd.read_csv(\"data.csv\")\n",
        "print(\"Kiểm tra dữ liệu:\")\n",
        "print(data.info())"
      ],
      "metadata": {
        "colab": {
          "base_uri": "https://localhost:8080/"
        },
        "id": "vJl-8z7ykzGu",
        "outputId": "9bf36366-a5ae-4abc-e6e2-8bf19abf6f6d"
      },
      "execution_count": null,
      "outputs": [
        {
          "output_type": "stream",
          "name": "stdout",
          "text": [
            "Kiểm tra dữ liệu:\n",
            "<class 'pandas.core.frame.DataFrame'>\n",
            "RangeIndex: 1421 entries, 0 to 1420\n",
            "Data columns (total 6 columns):\n",
            " #   Column      Non-Null Count  Dtype  \n",
            "---  ------      --------------  -----  \n",
            " 0   Gender      1421 non-null   int64  \n",
            " 1   Hemoglobin  1421 non-null   float64\n",
            " 2   MCH         1421 non-null   float64\n",
            " 3   MCHC        1421 non-null   float64\n",
            " 4   MCV         1421 non-null   float64\n",
            " 5   Result      1421 non-null   int64  \n",
            "dtypes: float64(4), int64(2)\n",
            "memory usage: 66.7 KB\n",
            "None\n"
          ]
        }
      ]
    },
    {
      "cell_type": "code",
      "source": [
        "X = data.iloc[1:,:-1].values\n",
        "print(\"\\nDữ liệu của X: \\n\", X);\n",
        "\n",
        "y = data.iloc[1:,-1].values\n",
        "print(\"\\nDữ liệu của y: \\n\", y)"
      ],
      "metadata": {
        "colab": {
          "base_uri": "https://localhost:8080/"
        },
        "id": "fAbMdjj7k1Jo",
        "outputId": "9f00ec06-6f7b-4ebb-d647-1f49452e5b14"
      },
      "execution_count": null,
      "outputs": [
        {
          "output_type": "stream",
          "name": "stdout",
          "text": [
            "\n",
            "Dữ liệu của X: \n",
            " [[ 0.  15.9 25.4 28.3 72. ]\n",
            " [ 0.   9.  21.5 29.6 71.2]\n",
            " [ 0.  14.9 16.  31.4 87.5]\n",
            " ...\n",
            " [ 1.  13.1 17.7 28.1 80.7]\n",
            " [ 0.  14.3 16.2 29.5 95.2]\n",
            " [ 0.  11.8 21.2 28.4 98.1]]\n",
            "\n",
            "Dữ liệu của y: \n",
            " [0 1 0 ... 1 0 1]\n"
          ]
        }
      ]
    },
    {
      "cell_type": "code",
      "source": [
        "#Xử lý dữ liệu\n",
        "chuyendoimin_max = preprocessing.MinMaxScaler()\n",
        "X = chuyendoimin_max.fit_transform(X)\n",
        "print(X)"
      ],
      "metadata": {
        "id": "KzJSTHtYk6ZR",
        "colab": {
          "base_uri": "https://localhost:8080/"
        },
        "outputId": "a27db5ce-32f5-4661-fd29-24b5762887d4"
      },
      "execution_count": null,
      "outputs": [
        {
          "output_type": "stream",
          "name": "stdout",
          "text": [
            "[[0.         0.90291262 0.67142857 0.10638298 0.08074534]\n",
            " [0.         0.23300971 0.39285714 0.38297872 0.05590062]\n",
            " [0.         0.80582524 0.         0.76595745 0.5621118 ]\n",
            " ...\n",
            " [1.         0.63106796 0.12142857 0.06382979 0.35093168]\n",
            " [0.         0.74757282 0.01428571 0.36170213 0.80124224]\n",
            " [0.         0.50485437 0.37142857 0.12765957 0.89130435]]\n"
          ]
        }
      ]
    },
    {
      "cell_type": "code",
      "source": [
        "k = 10  #Số lượng láng giềng k\n",
        "X_train, X_test, y_train, y_test = train_test_split(X, y, test_size=0.2, random_state=84)\n",
        "list_du_doan = duDoan(X_train, y_train, X_test, k)\n",
        "# print(list_du_doan)\n",
        "print(list_du_doan)"
      ],
      "metadata": {
        "colab": {
          "base_uri": "https://localhost:8080/"
        },
        "id": "ejG9iPmRnr_d",
        "outputId": "a931699b-5bcd-41c3-c9ab-60114d73a8c0"
      },
      "execution_count": null,
      "outputs": [
        {
          "output_type": "stream",
          "name": "stdout",
          "text": [
            "[0 1 0 1 1 0 0 0 1 0 0 1 1 1 0 0 0 1 0 1 0 1 0 0 0 1 0 0 0 0 1 1 1 0 1 1 1\n",
            " 1 0 0 1 1 1 1 0 1 1 0 0 0 1 0 0 0 0 0 0 0 0 0 1 0 1 0 0 0 1 1 1 0 1 1 0 1\n",
            " 0 1 1 0 0 0 0 1 1 0 0 1 0 1 0 1 1 0 0 0 1 0 1 0 1 0 1 0 0 1 0 0 0 0 0 0 0\n",
            " 0 0 1 0 1 1 0 1 1 0 0 0 0 0 0 0 0 0 1 0 0 0 0 0 0 0 1 0 0 1 1 1 1 1 0 1 0\n",
            " 1 1 0 1 0 1 0 1 1 0 1 1 1 1 0 1 0 0 1 1 1 0 0 0 0 0 0 0 0 1 0 0 1 0 1 1 1\n",
            " 0 0 0 0 0 0 1 0 0 0 1 0 1 0 1 0 0 0 0 1 0 0 1 0 1 1 0 0 0 0 0 1 0 0 1 0 0\n",
            " 1 1 1 1 1 0 0 0 1 0 0 0 0 1 1 0 1 0 0 0 1 1 1 0 0 0 0 0 1 1 1 0 0 0 0 1 1\n",
            " 1 0 0 1 0 0 0 0 0 0 1 0 1 0 0 1 0 0 0 0 1 0 1 0 1]\n"
          ]
        }
      ]
    },
    {
      "cell_type": "code",
      "source": [
        "cm = confusion_matrix(y_test, list_du_doan)\n",
        "print(\"\\nĐánh giá mô hình qua Confusion Matrix: \\n\", cm)\n",
        "print(f\"\\nMô hình đã dự đoán đúng {cm[1][1]} trường hợp True Positive.\")\n",
        "print(f\"Mô hình đã dự đoán đúng {cm[0][0]} trường hợp True Negative.\")\n",
        "print(f\"Mô hình đã dự đoán sai {cm[0][1]} trường hợp False Positive.\")\n",
        "print(f\"Mô hình đã dự đoán sai {cm[1][0]} trường hợp False Negative.\")\n",
        "\n",
        "print(f\"\\nĐộ chính xác: {accuracy_score(y_test, list_du_doan)*100:.2f}%\")"
      ],
      "metadata": {
        "colab": {
          "base_uri": "https://localhost:8080/"
        },
        "id": "xeiNuMuKlDx_",
        "outputId": "55700082-f1ac-482a-cb24-c752944a587b"
      },
      "execution_count": null,
      "outputs": [
        {
          "output_type": "stream",
          "name": "stdout",
          "text": [
            "\n",
            "Đánh giá mô hình qua Confusion Matrix: \n",
            " [[169   3]\n",
            " [  2 110]]\n",
            "\n",
            "Mô hình đã dự đoán đúng 110 trường hợp True Positive.\n",
            "Mô hình đã dự đoán đúng 169 trường hợp True Negative.\n",
            "Mô hình đã dự đoán sai 3 trường hợp False Positive.\n",
            "Mô hình đã dự đoán sai 2 trường hợp False Negative.\n",
            "\n",
            "Độ chính xác: 98.24%\n"
          ]
        }
      ]
    },
    {
      "cell_type": "code",
      "source": [
        "import matplotlib.pyplot as plt\n",
        "import seaborn as sns"
      ],
      "metadata": {
        "id": "mrldqeei87n1"
      },
      "execution_count": null,
      "outputs": []
    },
    {
      "cell_type": "code",
      "source": [
        "# Biểu đồ heatmap cho Confusion Matrix KNN\n",
        "plt.figure(figsize=(6, 4))\n",
        "sns.heatmap(cm, annot=True, fmt='d', cmap='Blues')\n",
        "plt.title('Confusion Matrix - KNN')\n",
        "plt.xlabel('Predicted')\n",
        "plt.ylabel('Actual')\n",
        "plt.show()"
      ],
      "metadata": {
        "colab": {
          "base_uri": "https://localhost:8080/",
          "height": 410
        },
        "id": "4ly9NBps8qqm",
        "outputId": "cb1689db-6deb-494f-8406-53d8f53a1a1b"
      },
      "execution_count": null,
      "outputs": [
        {
          "output_type": "display_data",
          "data": {
            "text/plain": [
              "<Figure size 600x400 with 2 Axes>"
            ],
            "image/png": "[encoded data removed]"
          },
          "metadata": {}
        }
      ]
    },
    {
      "cell_type": "code",
      "source": [
        "with open(\"accuracy_knn.txt\", \"w\") as f:\n",
        "    f.write(str(accuracy_score(y_test, list_du_doan)))"
      ],
      "metadata": {
        "id": "dyPAg9731lWy"
      },
      "execution_count": null,
      "outputs": []
    },
    {
      "cell_type": "code",
      "source": [
        "from google.colab import files\n",
        "files.download(\"accuracy_knn.txt\")"
      ],
      "metadata": {
        "colab": {
          "base_uri": "https://localhost:8080/",
          "height": 17
        },
        "id": "Bd8Fymzq7_qV",
        "outputId": "248e2203-95e9-47e1-8dbc-80f39ad3faed"
      },
      "execution_count": null,
      "outputs": [
        {
          "output_type": "display_data",
          "data": {
            "text/plain": [
              "<IPython.core.display.Javascript object>"
            ],
            "application/javascript": [
              "\n",
              "    async function download(id, filename, size) {\n",
              "      if (!google.colab.kernel.accessAllowed) {\n",
              "        return;\n",
              "      }\n",
              "      const div = document.createElement('div');\n",
              "      const label = document.createElement('label');\n",
              "      label.textContent = `Downloading \"${filename}\": `;\n",
              "      div.appendChild(label);\n",
              "      const progress = document.createElement('progress');\n",
              "      progress.max = size;\n",
              "      div.appendChild(progress);\n",
              "      document.body.appendChild(div);\n",
              "\n",
              "      const buffers = [];\n",
              "      let downloaded = 0;\n",
              "\n",
              "      const channel = await google.colab.kernel.comms.open(id);\n",
              "      // Send a message to notify the kernel that we're ready.\n",
              "      channel.send({})\n",
              "\n",
              "      for await (const message of channel.messages) {\n",
              "        // Send a message to notify the kernel that we're ready.\n",
              "        channel.send({})\n",
              "        if (message.buffers) {\n",
              "          for (const buffer of message.buffers) {\n",
              "            buffers.push(buffer);\n",
              "            downloaded += buffer.byteLength;\n",
              "            progress.value = downloaded;\n",
              "          }\n",
              "        }\n",
              "      }\n",
              "      const blob = new Blob(buffers, {type: 'application/binary'});\n",
              "      const a = document.createElement('a');\n",
              "      a.href = window.URL.createObjectURL(blob);\n",
              "      a.download = filename;\n",
              "      div.appendChild(a);\n",
              "      a.click();\n",
              "      div.remove();\n",
              "    }\n",
              "  "
            ]
          },
          "metadata": {}
        },
        {
          "output_type": "display_data",
          "data": {
            "text/plain": [
              "<IPython.core.display.Javascript object>"
            ],
            "application/javascript": [
              "download(\"download_f9364610-46ba-47ee-928f-3697e99f4dbe\", \"accuracy_knn.txt\", 18)"
            ]
          },
          "metadata": {}
        }
      ]
    }
  ]
}